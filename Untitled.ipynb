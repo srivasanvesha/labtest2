{
 "cells": [
  {
   "cell_type": "code",
   "execution_count": 1,
   "id": "13da3a76",
   "metadata": {},
   "outputs": [],
   "source": [
    "import numpy as np"
   ]
  },
  {
   "cell_type": "code",
   "execution_count": null,
   "id": "17989a64",
   "metadata": {},
   "outputs": [],
   "source": [
    "array = np.array([\"we\", \"have\", \"labtest\", \"today\"])\n",
    "for str: array:\n",
    "        len = np.len(str)\n",
    "        ans = "
   ]
  }
 ],
 "metadata": {
  "kernelspec": {
   "display_name": "Python 3 (ipykernel)",
   "language": "python",
   "name": "python3"
  },
  "language_info": {
   "codemirror_mode": {
    "name": "ipython",
    "version": 3
   },
   "file_extension": ".py",
   "mimetype": "text/x-python",
   "name": "python",
   "nbconvert_exporter": "python",
   "pygments_lexer": "ipython3",
   "version": "3.11.5"
  }
 },
 "nbformat": 4,
 "nbformat_minor": 5
}
